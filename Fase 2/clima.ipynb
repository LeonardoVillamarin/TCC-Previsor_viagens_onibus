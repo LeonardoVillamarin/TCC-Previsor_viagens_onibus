{
 "cells": [
  {
   "cell_type": "code",
   "execution_count": 147,
   "metadata": {},
   "outputs": [],
   "source": [
    "import pandas as pd\n",
    "import pytz"
   ]
  },
  {
   "cell_type": "code",
   "execution_count": 148,
   "metadata": {},
   "outputs": [],
   "source": [
    "tempo = pd.read_csv('INMET_SE_SP_A701_SAO PAULO - MIRANTE_01-01-2019_A_31-12-2019.CSV', sep=';', header=8, encoding='utf-8')"
   ]
  },
  {
   "cell_type": "code",
   "execution_count": 149,
   "metadata": {},
   "outputs": [],
   "source": [
    "tempo = tempo[['Data','Hora UTC','PRECIPITACAO TOTAL, HORARIO (mm)','TEMPERATURA MAXIMA NA HORA ANT. (AUT) (°C)','TEMPERATURA MINIMA NA HORA ANT. (AUT) (°C)','UMIDADE RELATIVA DO AR, HORARIA (%)','VENTO, VELOCIDADE HORARIA (m/s)']]\n",
    "tempo = tempo.loc[(tempo['Data'] >= '2019/06/01') & (tempo['Data'] <= '2019/10/10')]"
   ]
  },
  {
   "cell_type": "code",
   "execution_count": 150,
   "metadata": {},
   "outputs": [],
   "source": [
    "\n",
    "tempo['Datetime'] = pd.to_datetime(tempo['Data']+' '+tempo['Hora UTC'])"
   ]
  },
  {
   "cell_type": "code",
   "execution_count": 151,
   "metadata": {},
   "outputs": [],
   "source": [
    "tempo['Datetime'] = tempo['Datetime'].dt.tz_convert(pytz.timezone('America/Sao_Paulo'))\n",
    "tempo['Datetime'] = tempo['Datetime'].dt.tz_localize(None)"
   ]
  },
  {
   "cell_type": "code",
   "execution_count": 152,
   "metadata": {},
   "outputs": [],
   "source": [
    "tempo[\"Temperatura Media\"] = (tempo[\"TEMPERATURA MAXIMA NA HORA ANT. (AUT) (°C)\"].str.replace(\",\", \".\").astype(float) + tempo[\"TEMPERATURA MINIMA NA HORA ANT. (AUT) (°C)\"].str.replace(\",\", \".\").astype(float))/2"
   ]
  },
  {
   "cell_type": "code",
   "execution_count": 153,
   "metadata": {},
   "outputs": [],
   "source": [
    "tempo.drop([\"Data\", \"Hora UTC\", \"TEMPERATURA MAXIMA NA HORA ANT. (AUT) (°C)\", \"TEMPERATURA MINIMA NA HORA ANT. (AUT) (°C)\"], axis=1, inplace=True)"
   ]
  },
  {
   "cell_type": "code",
   "execution_count": 154,
   "metadata": {},
   "outputs": [],
   "source": [
    "tempo.columns = [\"Precipitacao\", \"Umidade\", \"Vento\", \"Datetime\", \"Temperatura\"]"
   ]
  },
  {
   "cell_type": "code",
   "execution_count": 155,
   "metadata": {},
   "outputs": [],
   "source": [
    "tempo[\"Vento\"] = tempo[\"Vento\"].str.replace(\",\", \".\").astype(float)\n",
    "tempo[\"Precipitacao\"] = tempo[\"Precipitacao\"].str.replace(\",\", \".\").astype(float)"
   ]
  },
  {
   "cell_type": "code",
   "execution_count": 156,
   "metadata": {},
   "outputs": [
    {
     "data": {
      "text/plain": [
       "Precipitacao           float64\n",
       "Umidade                  int64\n",
       "Vento                  float64\n",
       "Datetime        datetime64[ns]\n",
       "Temperatura            float64\n",
       "dtype: object"
      ]
     },
     "execution_count": 156,
     "metadata": {},
     "output_type": "execute_result"
    }
   ],
   "source": [
    "tempo.dtypes"
   ]
  },
  {
   "cell_type": "code",
   "execution_count": 157,
   "metadata": {},
   "outputs": [],
   "source": [
    "# tempo.to_json(\"Dados_clima.json\")"
   ]
  },
  {
   "cell_type": "code",
   "execution_count": 158,
   "metadata": {},
   "outputs": [],
   "source": [
    "df = pd.read_csv(\"rota33642.csv\")"
   ]
  },
  {
   "cell_type": "code",
   "execution_count": 159,
   "metadata": {},
   "outputs": [],
   "source": [
    "df[\"data_partida\"] = pd.to_datetime(df[\"data_partida\"])\n",
    "df[\"data_partida\"] = df[\"data_partida\"].dt.round(\"H\")"
   ]
  },
  {
   "cell_type": "code",
   "execution_count": 160,
   "metadata": {},
   "outputs": [],
   "source": [
    "df_merged = df.merge(tempo, left_on=\"data_partida\", right_on=\"Datetime\", how=\"left\")"
   ]
  },
  {
   "cell_type": "code",
   "execution_count": 161,
   "metadata": {},
   "outputs": [
    {
     "data": {
      "text/html": [
       "<div>\n",
       "<style scoped>\n",
       "    .dataframe tbody tr th:only-of-type {\n",
       "        vertical-align: middle;\n",
       "    }\n",
       "\n",
       "    .dataframe tbody tr th {\n",
       "        vertical-align: top;\n",
       "    }\n",
       "\n",
       "    .dataframe thead th {\n",
       "        text-align: right;\n",
       "    }\n",
       "</style>\n",
       "<table border=\"1\" class=\"dataframe\">\n",
       "  <thead>\n",
       "    <tr style=\"text-align: right;\">\n",
       "      <th></th>\n",
       "      <th>data_partida</th>\n",
       "      <th>data_chegada</th>\n",
       "      <th>linha</th>\n",
       "      <th>tempo_viagem</th>\n",
       "      <th>equipamento</th>\n",
       "      <th>dia_semana</th>\n",
       "      <th>partidaTimeStamp</th>\n",
       "      <th>qtdDiasAno</th>\n",
       "      <th>direcao</th>\n",
       "      <th>tipo_dia</th>\n",
       "      <th>turno_dia</th>\n",
       "      <th>chegadaTimeStamp</th>\n",
       "      <th>hora</th>\n",
       "      <th>hora_dia</th>\n",
       "      <th>Precipitacao</th>\n",
       "      <th>Umidade</th>\n",
       "      <th>Vento</th>\n",
       "      <th>Datetime</th>\n",
       "      <th>Temperatura</th>\n",
       "    </tr>\n",
       "  </thead>\n",
       "  <tbody>\n",
       "  </tbody>\n",
       "</table>\n",
       "</div>"
      ],
      "text/plain": [
       "Empty DataFrame\n",
       "Columns: [data_partida, data_chegada, linha, tempo_viagem, equipamento, dia_semana, partidaTimeStamp, qtdDiasAno, direcao, tipo_dia, turno_dia, chegadaTimeStamp, hora, hora_dia, Precipitacao, Umidade, Vento, Datetime, Temperatura]\n",
       "Index: []"
      ]
     },
     "execution_count": 161,
     "metadata": {},
     "output_type": "execute_result"
    }
   ],
   "source": [
    "df_merged.loc[df_merged[\"Temperatura\"].isna()]"
   ]
  },
  {
   "cell_type": "code",
   "execution_count": 162,
   "metadata": {},
   "outputs": [],
   "source": [
    "df_merged.to_json(\"rota33642_clima.json\")"
   ]
  }
 ],
 "metadata": {
  "kernelspec": {
   "display_name": "Python 3.10.7 64-bit",
   "language": "python",
   "name": "python3"
  },
  "language_info": {
   "codemirror_mode": {
    "name": "ipython",
    "version": 3
   },
   "file_extension": ".py",
   "mimetype": "text/x-python",
   "name": "python",
   "nbconvert_exporter": "python",
   "pygments_lexer": "ipython3",
   "version": "3.10.7"
  },
  "orig_nbformat": 4,
  "vscode": {
   "interpreter": {
    "hash": "336295d508b094686eaf9f75dae8800c5c8c863f253658ee66d2acca65590102"
   }
  }
 },
 "nbformat": 4,
 "nbformat_minor": 2
}
