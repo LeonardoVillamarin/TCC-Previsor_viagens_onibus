{
 "cells": [
  {
   "cell_type": "code",
   "execution_count": 210,
   "metadata": {},
   "outputs": [],
   "source": [
    "import pandas as pd\n",
    "import pytz"
   ]
  },
  {
   "cell_type": "code",
   "execution_count": 211,
   "metadata": {},
   "outputs": [],
   "source": [
    "tempo = pd.read_csv('../Bases/Raw/INMET_SE_SP_A701_SAO PAULO - MIRANTE_01-01-2019_A_31-12-2019.CSV', sep=';', header=8, encoding='utf-8')"
   ]
  },
  {
   "cell_type": "code",
   "execution_count": 212,
   "metadata": {},
   "outputs": [],
   "source": [
    "tempo = tempo[['Data','Hora UTC','PRECIPITACAO TOTAL, HORARIO (mm)','TEMPERATURA MAXIMA NA HORA ANT. (AUT) (°C)','TEMPERATURA MINIMA NA HORA ANT. (AUT) (°C)','UMIDADE RELATIVA DO AR, HORARIA (%)','VENTO, VELOCIDADE HORARIA (m/s)']]\n",
    "tempo = tempo.loc[(tempo['Data'] >= '2019/06/01') & (tempo['Data'] <= '2019/10/10')]"
   ]
  },
  {
   "cell_type": "code",
   "execution_count": 213,
   "metadata": {},
   "outputs": [],
   "source": [
    "\n",
    "tempo['Datetime'] = pd.to_datetime(tempo['Data']+' '+tempo['Hora UTC'])"
   ]
  },
  {
   "cell_type": "code",
   "execution_count": 214,
   "metadata": {},
   "outputs": [],
   "source": [
    "tempo['Datetime'] = tempo['Datetime'].dt.tz_convert(pytz.timezone('America/Sao_Paulo'))\n",
    "tempo['Datetime'] = tempo['Datetime'].dt.tz_localize(None)"
   ]
  },
  {
   "cell_type": "code",
   "execution_count": 215,
   "metadata": {},
   "outputs": [],
   "source": [
    "tempo[\"Temperatura Media\"] = (tempo[\"TEMPERATURA MAXIMA NA HORA ANT. (AUT) (°C)\"].str.replace(\",\", \".\").astype(float) + tempo[\"TEMPERATURA MINIMA NA HORA ANT. (AUT) (°C)\"].str.replace(\",\", \".\").astype(float))/2"
   ]
  },
  {
   "cell_type": "code",
   "execution_count": 216,
   "metadata": {},
   "outputs": [],
   "source": [
    "tempo.drop([\"Data\", \"Hora UTC\", \"TEMPERATURA MAXIMA NA HORA ANT. (AUT) (°C)\", \"TEMPERATURA MINIMA NA HORA ANT. (AUT) (°C)\"], axis=1, inplace=True)"
   ]
  },
  {
   "cell_type": "code",
   "execution_count": 217,
   "metadata": {},
   "outputs": [],
   "source": [
    "tempo.columns = [\"Precipitacao\", \"Umidade\", \"Vento\", \"Datetime\", \"Temperatura\"]"
   ]
  },
  {
   "cell_type": "code",
   "execution_count": 218,
   "metadata": {},
   "outputs": [],
   "source": [
    "tempo[\"Vento\"] = tempo[\"Vento\"].str.replace(\",\", \".\").astype(float)\n",
    "tempo[\"Precipitacao\"] = tempo[\"Precipitacao\"].str.replace(\",\", \".\").astype(float)"
   ]
  },
  {
   "cell_type": "code",
   "execution_count": 219,
   "metadata": {},
   "outputs": [
    {
     "data": {
      "text/plain": [
       "Precipitacao           float64\n",
       "Umidade                  int64\n",
       "Vento                  float64\n",
       "Datetime        datetime64[ns]\n",
       "Temperatura            float64\n",
       "dtype: object"
      ]
     },
     "execution_count": 219,
     "metadata": {},
     "output_type": "execute_result"
    }
   ],
   "source": [
    "tempo.dtypes"
   ]
  },
  {
   "cell_type": "code",
   "execution_count": 220,
   "metadata": {},
   "outputs": [
    {
     "data": {
      "text/html": [
       "<div>\n",
       "<style scoped>\n",
       "    .dataframe tbody tr th:only-of-type {\n",
       "        vertical-align: middle;\n",
       "    }\n",
       "\n",
       "    .dataframe tbody tr th {\n",
       "        vertical-align: top;\n",
       "    }\n",
       "\n",
       "    .dataframe thead th {\n",
       "        text-align: right;\n",
       "    }\n",
       "</style>\n",
       "<table border=\"1\" class=\"dataframe\">\n",
       "  <thead>\n",
       "    <tr style=\"text-align: right;\">\n",
       "      <th></th>\n",
       "      <th>Precipitacao</th>\n",
       "      <th>Umidade</th>\n",
       "      <th>Vento</th>\n",
       "      <th>Datetime</th>\n",
       "      <th>Temperatura</th>\n",
       "    </tr>\n",
       "  </thead>\n",
       "  <tbody>\n",
       "    <tr>\n",
       "      <th>3624</th>\n",
       "      <td>0.0</td>\n",
       "      <td>51</td>\n",
       "      <td>2.5</td>\n",
       "      <td>2019-05-31 21:00:00</td>\n",
       "      <td>24.20</td>\n",
       "    </tr>\n",
       "    <tr>\n",
       "      <th>3625</th>\n",
       "      <td>3.8</td>\n",
       "      <td>85</td>\n",
       "      <td>4.5</td>\n",
       "      <td>2019-05-31 22:00:00</td>\n",
       "      <td>21.30</td>\n",
       "    </tr>\n",
       "    <tr>\n",
       "      <th>3626</th>\n",
       "      <td>3.0</td>\n",
       "      <td>89</td>\n",
       "      <td>0.3</td>\n",
       "      <td>2019-05-31 23:00:00</td>\n",
       "      <td>18.45</td>\n",
       "    </tr>\n",
       "    <tr>\n",
       "      <th>3627</th>\n",
       "      <td>0.0</td>\n",
       "      <td>88</td>\n",
       "      <td>0.0</td>\n",
       "      <td>2019-06-01 00:00:00</td>\n",
       "      <td>18.70</td>\n",
       "    </tr>\n",
       "    <tr>\n",
       "      <th>3628</th>\n",
       "      <td>0.0</td>\n",
       "      <td>86</td>\n",
       "      <td>0.4</td>\n",
       "      <td>2019-06-01 01:00:00</td>\n",
       "      <td>18.80</td>\n",
       "    </tr>\n",
       "    <tr>\n",
       "      <th>...</th>\n",
       "      <td>...</td>\n",
       "      <td>...</td>\n",
       "      <td>...</td>\n",
       "      <td>...</td>\n",
       "      <td>...</td>\n",
       "    </tr>\n",
       "    <tr>\n",
       "      <th>6787</th>\n",
       "      <td>0.0</td>\n",
       "      <td>59</td>\n",
       "      <td>3.8</td>\n",
       "      <td>2019-10-10 16:00:00</td>\n",
       "      <td>26.95</td>\n",
       "    </tr>\n",
       "    <tr>\n",
       "      <th>6788</th>\n",
       "      <td>0.0</td>\n",
       "      <td>70</td>\n",
       "      <td>3.4</td>\n",
       "      <td>2019-10-10 17:00:00</td>\n",
       "      <td>23.55</td>\n",
       "    </tr>\n",
       "    <tr>\n",
       "      <th>6789</th>\n",
       "      <td>0.0</td>\n",
       "      <td>77</td>\n",
       "      <td>1.8</td>\n",
       "      <td>2019-10-10 18:00:00</td>\n",
       "      <td>21.25</td>\n",
       "    </tr>\n",
       "    <tr>\n",
       "      <th>6790</th>\n",
       "      <td>0.0</td>\n",
       "      <td>81</td>\n",
       "      <td>2.0</td>\n",
       "      <td>2019-10-10 19:00:00</td>\n",
       "      <td>20.00</td>\n",
       "    </tr>\n",
       "    <tr>\n",
       "      <th>6791</th>\n",
       "      <td>0.0</td>\n",
       "      <td>81</td>\n",
       "      <td>2.1</td>\n",
       "      <td>2019-10-10 20:00:00</td>\n",
       "      <td>19.35</td>\n",
       "    </tr>\n",
       "  </tbody>\n",
       "</table>\n",
       "<p>3168 rows × 5 columns</p>\n",
       "</div>"
      ],
      "text/plain": [
       "      Precipitacao  Umidade  Vento            Datetime  Temperatura\n",
       "3624           0.0       51    2.5 2019-05-31 21:00:00        24.20\n",
       "3625           3.8       85    4.5 2019-05-31 22:00:00        21.30\n",
       "3626           3.0       89    0.3 2019-05-31 23:00:00        18.45\n",
       "3627           0.0       88    0.0 2019-06-01 00:00:00        18.70\n",
       "3628           0.0       86    0.4 2019-06-01 01:00:00        18.80\n",
       "...            ...      ...    ...                 ...          ...\n",
       "6787           0.0       59    3.8 2019-10-10 16:00:00        26.95\n",
       "6788           0.0       70    3.4 2019-10-10 17:00:00        23.55\n",
       "6789           0.0       77    1.8 2019-10-10 18:00:00        21.25\n",
       "6790           0.0       81    2.0 2019-10-10 19:00:00        20.00\n",
       "6791           0.0       81    2.1 2019-10-10 20:00:00        19.35\n",
       "\n",
       "[3168 rows x 5 columns]"
      ]
     },
     "execution_count": 220,
     "metadata": {},
     "output_type": "execute_result"
    }
   ],
   "source": [
    "tempo"
   ]
  },
  {
   "cell_type": "code",
   "execution_count": 221,
   "metadata": {},
   "outputs": [],
   "source": [
    "tempo.to_json(\"../Bases/Cleaned/weather.json\")"
   ]
  },
  {
   "cell_type": "code",
   "execution_count": 222,
   "metadata": {},
   "outputs": [],
   "source": [
    "df33642 = pd.read_csv(\"../Bases/Cleaned/rota33642.csv\")\n",
    "df32893 = pd.read_csv(\"../Bases/Cleaned/rota32893.csv\")"
   ]
  },
  {
   "cell_type": "code",
   "execution_count": 223,
   "metadata": {},
   "outputs": [],
   "source": [
    "df33642[\"data_partida2\"] = pd.to_datetime(df33642[\"data_partida\"])\n",
    "df33642[\"data_partida2\"] = df33642[\"data_partida2\"].dt.round(\"H\")\n",
    "\n",
    "df32893[\"data_partida2\"] = pd.to_datetime(df32893[\"data_partida\"])\n",
    "df32893[\"data_partida2\"] = df32893[\"data_partida2\"].dt.round(\"H\")"
   ]
  },
  {
   "cell_type": "code",
   "execution_count": 224,
   "metadata": {},
   "outputs": [],
   "source": [
    "df33642_merged = df33642.merge(tempo, left_on=\"data_partida2\", right_on=\"Datetime\", how=\"left\")\n",
    "df32893_merged = df32893.merge(tempo, left_on=\"data_partida2\", right_on=\"Datetime\", how=\"left\")"
   ]
  },
  {
   "cell_type": "code",
   "execution_count": 225,
   "metadata": {},
   "outputs": [],
   "source": [
    "df33642_merged.drop(['data_partida2','Datetime'],axis=1,inplace=True)\n",
    "df32893_merged.drop(['data_partida2','Datetime'],axis=1,inplace=True)"
   ]
  },
  {
   "cell_type": "code",
   "execution_count": 226,
   "metadata": {},
   "outputs": [],
   "source": [
    "df33642_merged.to_csv(\"../Bases/Cleaned/rota33642_weather.csv\",index=False)\n",
    "df32893_merged.to_csv(\"../Bases/Cleaned/rota32893_weather.csv\",index=False)"
   ]
  }
 ],
 "metadata": {
  "kernelspec": {
   "display_name": "Python 3.10.7 64-bit",
   "language": "python",
   "name": "python3"
  },
  "language_info": {
   "codemirror_mode": {
    "name": "ipython",
    "version": 3
   },
   "file_extension": ".py",
   "mimetype": "text/x-python",
   "name": "python",
   "nbconvert_exporter": "python",
   "pygments_lexer": "ipython3",
   "version": "3.10.7"
  },
  "orig_nbformat": 4,
  "vscode": {
   "interpreter": {
    "hash": "336295d508b094686eaf9f75dae8800c5c8c863f253658ee66d2acca65590102"
   }
  }
 },
 "nbformat": 4,
 "nbformat_minor": 2
}
