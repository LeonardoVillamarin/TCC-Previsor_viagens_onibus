{
 "cells": [
  {
   "cell_type": "code",
   "execution_count": 29,
   "metadata": {},
   "outputs": [],
   "source": [
    "import pandas as pd"
   ]
  },
  {
   "cell_type": "code",
   "execution_count": 30,
   "metadata": {},
   "outputs": [],
   "source": [
    "df33642 = pd.read_csv(\"../Bases/Raw/rota33642.csv\")\n",
    "df32893 = pd.read_csv(\"../Bases/Raw/rota32893.csv\")\n",
    "\n",
    "df33642[\"data_partida\"] = pd.to_datetime(df33642[\"data_partida\"])\n",
    "df32893[\"data_partida\"] = pd.to_datetime(df32893[\"data_partida\"])\n",
    "\n",
    "df33642 = df33642.sort_values(by=[\"data_partida\"], ascending=False)\n",
    "df32893 = df32893.sort_values(by=[\"data_partida\"], ascending=False)"
   ]
  },
  {
   "cell_type": "code",
   "execution_count": 31,
   "metadata": {},
   "outputs": [],
   "source": [
    "df33642 = df33642.drop(['data_chegada','linha','equipamento','direcao','chegadaTimeStamp','hora'], axis=1)\n",
    "df32893 = df32893.drop(['data_chegada','linha','equipamento','direcao','chegadaTimeStamp','hora'], axis=1)"
   ]
  },
  {
   "cell_type": "code",
   "execution_count": 32,
   "metadata": {},
   "outputs": [],
   "source": [
    "df33642.to_csv(\"../Bases/Cleaned/rota33642.csv\",index=False)\n",
    "df32893.to_csv(\"../Bases/Cleaned/rota32893.csv\",index=False)"
   ]
  }
 ],
 "metadata": {
  "kernelspec": {
   "display_name": "Python 3.10.7 64-bit",
   "language": "python",
   "name": "python3"
  },
  "language_info": {
   "codemirror_mode": {
    "name": "ipython",
    "version": 3
   },
   "file_extension": ".py",
   "mimetype": "text/x-python",
   "name": "python",
   "nbconvert_exporter": "python",
   "pygments_lexer": "ipython3",
   "version": "3.10.7"
  },
  "orig_nbformat": 4,
  "vscode": {
   "interpreter": {
    "hash": "336295d508b094686eaf9f75dae8800c5c8c863f253658ee66d2acca65590102"
   }
  }
 },
 "nbformat": 4,
 "nbformat_minor": 2
}
