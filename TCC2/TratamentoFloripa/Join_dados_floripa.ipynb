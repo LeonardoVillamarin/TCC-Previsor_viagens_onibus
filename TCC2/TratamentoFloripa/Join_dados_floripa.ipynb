{
 "cells": [
  {
   "cell_type": "code",
   "execution_count": 3,
   "metadata": {},
   "outputs": [],
   "source": [
    "import pandas as pd\n",
    "from os import listdir"
   ]
  },
  {
   "cell_type": "code",
   "execution_count": 4,
   "metadata": {},
   "outputs": [
    {
     "name": "stdout",
     "output_type": "stream",
     "text": [
      "223402\n",
      "233772\n",
      "216431\n",
      "209239\n",
      "230499\n",
      "237584\n",
      "204593\n",
      "232717\n",
      "220745\n",
      "220367\n",
      "243402\n",
      "221609\n"
     ]
    }
   ],
   "source": [
    "\n",
    "dir = listdir(\"../TratamentoFloripa/\")\n",
    "\n",
    "dir.remove('Join_dados_floripa.ipynb')\n",
    "\n",
    "df2 = pd.DataFrame([])\n",
    "for file in dir:\n",
    "    mes = pd.read_excel(file)\n",
    "    print(len(mes.index))\n",
    "    df2 = pd.concat([df2,mes])"
   ]
  },
  {
   "cell_type": "code",
   "execution_count": 5,
   "metadata": {},
   "outputs": [],
   "source": [
    "df2.to_csv('../dados_floripa.csv',index=False)"
   ]
  }
 ],
 "metadata": {
  "kernelspec": {
   "display_name": "Python 3",
   "language": "python",
   "name": "python3"
  },
  "language_info": {
   "codemirror_mode": {
    "name": "ipython",
    "version": 3
   },
   "file_extension": ".py",
   "mimetype": "text/x-python",
   "name": "python",
   "nbconvert_exporter": "python",
   "pygments_lexer": "ipython3",
   "version": "3.10.7"
  },
  "orig_nbformat": 4
 },
 "nbformat": 4,
 "nbformat_minor": 2
}
