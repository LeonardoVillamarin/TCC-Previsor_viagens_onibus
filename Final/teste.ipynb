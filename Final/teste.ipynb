{
 "cells": [
  {
   "cell_type": "code",
   "execution_count": 1,
   "metadata": {},
   "outputs": [],
   "source": [
    "import pandas as pd\n",
    "import matplotlib.pyplot as plt\n",
    "import numpy as np"
   ]
  },
  {
   "cell_type": "code",
   "execution_count": 2,
   "metadata": {},
   "outputs": [
    {
     "data": {
      "text/html": [
       "<div>\n",
       "<style scoped>\n",
       "    .dataframe tbody tr th:only-of-type {\n",
       "        vertical-align: middle;\n",
       "    }\n",
       "\n",
       "    .dataframe tbody tr th {\n",
       "        vertical-align: top;\n",
       "    }\n",
       "\n",
       "    .dataframe thead th {\n",
       "        text-align: right;\n",
       "    }\n",
       "</style>\n",
       "<table border=\"1\" class=\"dataframe\">\n",
       "  <thead>\n",
       "    <tr style=\"text-align: right;\">\n",
       "      <th></th>\n",
       "      <th>data_partida</th>\n",
       "      <th>tempo_viagem</th>\n",
       "      <th>dia_semana</th>\n",
       "      <th>partidaTimeStamp</th>\n",
       "      <th>qtdDiasAno</th>\n",
       "      <th>tipo_dia</th>\n",
       "      <th>turno_dia</th>\n",
       "      <th>hora_dia</th>\n",
       "      <th>Precipitacao</th>\n",
       "      <th>Temperatura</th>\n",
       "      <th>Chuva</th>\n",
       "      <th>Calor</th>\n",
       "      <th>tempo_viagem_1</th>\n",
       "      <th>tempo_viagem_2</th>\n",
       "      <th>tempo_viagem_3</th>\n",
       "      <th>tempo_viagem_4</th>\n",
       "      <th>tempo_viagem_5</th>\n",
       "    </tr>\n",
       "  </thead>\n",
       "  <tbody>\n",
       "    <tr>\n",
       "      <th>0</th>\n",
       "      <td>2019-07-01 05:27:17</td>\n",
       "      <td>812</td>\n",
       "      <td>1</td>\n",
       "      <td>1561969637</td>\n",
       "      <td>182</td>\n",
       "      <td>1</td>\n",
       "      <td>2</td>\n",
       "      <td>5</td>\n",
       "      <td>0.0</td>\n",
       "      <td>18.8</td>\n",
       "      <td>0</td>\n",
       "      <td>1</td>\n",
       "      <td>787.0</td>\n",
       "      <td>781.0</td>\n",
       "      <td>781.0</td>\n",
       "      <td>801.0</td>\n",
       "      <td>703.0</td>\n",
       "    </tr>\n",
       "    <tr>\n",
       "      <th>1</th>\n",
       "      <td>2019-07-01 05:34:35</td>\n",
       "      <td>1081</td>\n",
       "      <td>1</td>\n",
       "      <td>1561970075</td>\n",
       "      <td>182</td>\n",
       "      <td>1</td>\n",
       "      <td>2</td>\n",
       "      <td>5</td>\n",
       "      <td>0.0</td>\n",
       "      <td>18.8</td>\n",
       "      <td>0</td>\n",
       "      <td>1</td>\n",
       "      <td>812.0</td>\n",
       "      <td>787.0</td>\n",
       "      <td>781.0</td>\n",
       "      <td>781.0</td>\n",
       "      <td>801.0</td>\n",
       "    </tr>\n",
       "    <tr>\n",
       "      <th>2</th>\n",
       "      <td>2019-07-01 05:44:45</td>\n",
       "      <td>827</td>\n",
       "      <td>1</td>\n",
       "      <td>1561970685</td>\n",
       "      <td>182</td>\n",
       "      <td>1</td>\n",
       "      <td>2</td>\n",
       "      <td>5</td>\n",
       "      <td>0.0</td>\n",
       "      <td>18.8</td>\n",
       "      <td>0</td>\n",
       "      <td>1</td>\n",
       "      <td>1081.0</td>\n",
       "      <td>812.0</td>\n",
       "      <td>787.0</td>\n",
       "      <td>781.0</td>\n",
       "      <td>781.0</td>\n",
       "    </tr>\n",
       "    <tr>\n",
       "      <th>3</th>\n",
       "      <td>2019-07-01 05:55:29</td>\n",
       "      <td>975</td>\n",
       "      <td>1</td>\n",
       "      <td>1561971329</td>\n",
       "      <td>182</td>\n",
       "      <td>1</td>\n",
       "      <td>2</td>\n",
       "      <td>5</td>\n",
       "      <td>0.0</td>\n",
       "      <td>18.8</td>\n",
       "      <td>0</td>\n",
       "      <td>1</td>\n",
       "      <td>827.0</td>\n",
       "      <td>1081.0</td>\n",
       "      <td>812.0</td>\n",
       "      <td>787.0</td>\n",
       "      <td>781.0</td>\n",
       "    </tr>\n",
       "    <tr>\n",
       "      <th>4</th>\n",
       "      <td>2019-07-01 06:03:26</td>\n",
       "      <td>703</td>\n",
       "      <td>1</td>\n",
       "      <td>1561971806</td>\n",
       "      <td>182</td>\n",
       "      <td>1</td>\n",
       "      <td>2</td>\n",
       "      <td>6</td>\n",
       "      <td>0.0</td>\n",
       "      <td>18.8</td>\n",
       "      <td>0</td>\n",
       "      <td>1</td>\n",
       "      <td>975.0</td>\n",
       "      <td>827.0</td>\n",
       "      <td>1081.0</td>\n",
       "      <td>812.0</td>\n",
       "      <td>787.0</td>\n",
       "    </tr>\n",
       "  </tbody>\n",
       "</table>\n",
       "</div>"
      ],
      "text/plain": [
       "          data_partida  tempo_viagem  dia_semana  partidaTimeStamp  \\\n",
       "0  2019-07-01 05:27:17           812           1        1561969637   \n",
       "1  2019-07-01 05:34:35          1081           1        1561970075   \n",
       "2  2019-07-01 05:44:45           827           1        1561970685   \n",
       "3  2019-07-01 05:55:29           975           1        1561971329   \n",
       "4  2019-07-01 06:03:26           703           1        1561971806   \n",
       "\n",
       "   qtdDiasAno  tipo_dia  turno_dia  hora_dia  Precipitacao  Temperatura  \\\n",
       "0         182         1          2         5           0.0         18.8   \n",
       "1         182         1          2         5           0.0         18.8   \n",
       "2         182         1          2         5           0.0         18.8   \n",
       "3         182         1          2         5           0.0         18.8   \n",
       "4         182         1          2         6           0.0         18.8   \n",
       "\n",
       "   Chuva  Calor  tempo_viagem_1  tempo_viagem_2  tempo_viagem_3  \\\n",
       "0      0      1           787.0           781.0           781.0   \n",
       "1      0      1           812.0           787.0           781.0   \n",
       "2      0      1          1081.0           812.0           787.0   \n",
       "3      0      1           827.0          1081.0           812.0   \n",
       "4      0      1           975.0           827.0          1081.0   \n",
       "\n",
       "   tempo_viagem_4  tempo_viagem_5  \n",
       "0           801.0           703.0  \n",
       "1           781.0           801.0  \n",
       "2           781.0           781.0  \n",
       "3           787.0           781.0  \n",
       "4           812.0           787.0  "
      ]
     },
     "execution_count": 2,
     "metadata": {},
     "output_type": "execute_result"
    }
   ],
   "source": [
    "df = pd.read_csv('Clean/rota33642.csv')\n",
    "df.head()"
   ]
  },
  {
   "cell_type": "code",
   "execution_count": 4,
   "metadata": {},
   "outputs": [
    {
     "data": {
      "text/plain": [
       "'2019-10-01 00:40:28'"
      ]
     },
     "execution_count": 4,
     "metadata": {},
     "output_type": "execute_result"
    }
   ],
   "source": [
    "max(df['data_partida'])"
   ]
  },
  {
   "cell_type": "code",
   "execution_count": 78,
   "metadata": {},
   "outputs": [
    {
     "data": {
      "text/plain": [
       "count    9309.000000\n",
       "mean     1164.453754\n",
       "std       240.199812\n",
       "min       601.000000\n",
       "25%       995.000000\n",
       "50%      1144.000000\n",
       "75%      1321.000000\n",
       "max      2701.000000\n",
       "Name: tempo_viagem, dtype: float64"
      ]
     },
     "execution_count": 78,
     "metadata": {},
     "output_type": "execute_result"
    }
   ],
   "source": [
    "df['tempo_viagem'].describe()"
   ]
  },
  {
   "cell_type": "code",
   "execution_count": 79,
   "metadata": {},
   "outputs": [
    {
     "data": {
      "text/plain": [
       "{'whiskers': [<matplotlib.lines.Line2D at 0x20322c45690>,\n",
       "  <matplotlib.lines.Line2D at 0x20322c46110>],\n",
       " 'caps': [<matplotlib.lines.Line2D at 0x20322c45ae0>,\n",
       "  <matplotlib.lines.Line2D at 0x20322c46530>],\n",
       " 'boxes': [<matplotlib.lines.Line2D at 0x20322c44c40>],\n",
       " 'medians': [<matplotlib.lines.Line2D at 0x20322c8b2e0>],\n",
       " 'fliers': [<matplotlib.lines.Line2D at 0x20322c8ba90>],\n",
       " 'means': []}"
      ]
     },
     "execution_count": 79,
     "metadata": {},
     "output_type": "execute_result"
    },
    {
     "data": {
      "image/png": "[encoded data removed]",
      "text/plain": [
       "<Figure size 640x480 with 1 Axes>"
      ]
     },
     "metadata": {},
     "output_type": "display_data"
    }
   ],
   "source": [
    "plt.boxplot(df['tempo_viagem'])"
   ]
  },
  {
   "cell_type": "code",
   "execution_count": 80,
   "metadata": {},
   "outputs": [
    {
     "data": {
      "text/html": [
       "<div>\n",
       "<style scoped>\n",
       "    .dataframe tbody tr th:only-of-type {\n",
       "        vertical-align: middle;\n",
       "    }\n",
       "\n",
       "    .dataframe tbody tr th {\n",
       "        vertical-align: top;\n",
       "    }\n",
       "\n",
       "    .dataframe thead th {\n",
       "        text-align: right;\n",
       "    }\n",
       "</style>\n",
       "<table border=\"1\" class=\"dataframe\">\n",
       "  <thead>\n",
       "    <tr style=\"text-align: right;\">\n",
       "      <th></th>\n",
       "      <th>tempo_viagem</th>\n",
       "    </tr>\n",
       "    <tr>\n",
       "      <th>tempo_viagem</th>\n",
       "      <th></th>\n",
       "    </tr>\n",
       "  </thead>\n",
       "  <tbody>\n",
       "    <tr>\n",
       "      <th>1.0</th>\n",
       "      <td>8472</td>\n",
       "    </tr>\n",
       "    <tr>\n",
       "      <th>2.0</th>\n",
       "      <td>835</td>\n",
       "    </tr>\n",
       "    <tr>\n",
       "      <th>3.0</th>\n",
       "      <td>2</td>\n",
       "    </tr>\n",
       "  </tbody>\n",
       "</table>\n",
       "</div>"
      ],
      "text/plain": [
       "              tempo_viagem\n",
       "tempo_viagem              \n",
       "1.0                   8472\n",
       "2.0                    835\n",
       "3.0                      2"
      ]
     },
     "execution_count": 80,
     "metadata": {},
     "output_type": "execute_result"
    }
   ],
   "source": [
    "df.groupby(round((df['tempo_viagem'])/1000),0).agg({'tempo_viagem':'count'})\n"
   ]
  },
  {
   "cell_type": "code",
   "execution_count": 81,
   "metadata": {},
   "outputs": [],
   "source": [
    "def outlier_metric(valores):\n",
    "    Q1 = np.percentile(valores,25)\n",
    "    Q3 = np.percentile(valores,75)\n",
    "    intervalo = Q3-Q1\n",
    "    limite_superior = Q3+intervalo*1.5\n",
    "    limite_inferior = Q1-intervalo*1.5\n",
    "    return limite_superior,limite_inferior"
   ]
  },
  {
   "cell_type": "code",
   "execution_count": 82,
   "metadata": {},
   "outputs": [
    {
     "name": "stdout",
     "output_type": "stream",
     "text": [
      "1810.0\n",
      "506.0\n"
     ]
    }
   ],
   "source": [
    "limite_superior,limite_inferior = outlier_metric(df['tempo_viagem'])\n",
    "print(limite_superior)\n",
    "print(limite_inferior)"
   ]
  },
  {
   "cell_type": "code",
   "execution_count": 83,
   "metadata": {},
   "outputs": [],
   "source": [
    "df2 = df.loc[(df['tempo_viagem'] < limite_superior) & (df['tempo_viagem'] > limite_inferior)]"
   ]
  },
  {
   "cell_type": "code",
   "execution_count": 84,
   "metadata": {},
   "outputs": [
    {
     "data": {
      "text/plain": [
       "{'whiskers': [<matplotlib.lines.Line2D at 0x2031c9970a0>,\n",
       "  <matplotlib.lines.Line2D at 0x20322b502e0>],\n",
       " 'caps': [<matplotlib.lines.Line2D at 0x20322b50580>,\n",
       "  <matplotlib.lines.Line2D at 0x20322b50820>],\n",
       " 'boxes': [<matplotlib.lines.Line2D at 0x2031c99b5b0>],\n",
       " 'medians': [<matplotlib.lines.Line2D at 0x20322b50ac0>],\n",
       " 'fliers': [<matplotlib.lines.Line2D at 0x20322b50d60>],\n",
       " 'means': []}"
      ]
     },
     "execution_count": 84,
     "metadata": {},
     "output_type": "execute_result"
    },
    {
     "data": {
      "image/png": "[encoded data removed]",
      "text/plain": [
       "<Figure size 640x480 with 1 Axes>"
      ]
     },
     "metadata": {},
     "output_type": "display_data"
    }
   ],
   "source": [
    "plt.boxplot(df2['tempo_viagem'])"
   ]
  },
  {
   "cell_type": "code",
   "execution_count": 85,
   "metadata": {},
   "outputs": [
    {
     "data": {
      "text/html": [
       "<div>\n",
       "<style scoped>\n",
       "    .dataframe tbody tr th:only-of-type {\n",
       "        vertical-align: middle;\n",
       "    }\n",
       "\n",
       "    .dataframe tbody tr th {\n",
       "        vertical-align: top;\n",
       "    }\n",
       "\n",
       "    .dataframe thead th {\n",
       "        text-align: right;\n",
       "    }\n",
       "</style>\n",
       "<table border=\"1\" class=\"dataframe\">\n",
       "  <thead>\n",
       "    <tr style=\"text-align: right;\">\n",
       "      <th></th>\n",
       "      <th>tempo_viagem</th>\n",
       "    </tr>\n",
       "    <tr>\n",
       "      <th>tempo_viagem</th>\n",
       "      <th></th>\n",
       "    </tr>\n",
       "  </thead>\n",
       "  <tbody>\n",
       "    <tr>\n",
       "      <th>1.0</th>\n",
       "      <td>8472</td>\n",
       "    </tr>\n",
       "    <tr>\n",
       "      <th>2.0</th>\n",
       "      <td>766</td>\n",
       "    </tr>\n",
       "  </tbody>\n",
       "</table>\n",
       "</div>"
      ],
      "text/plain": [
       "              tempo_viagem\n",
       "tempo_viagem              \n",
       "1.0                   8472\n",
       "2.0                    766"
      ]
     },
     "execution_count": 85,
     "metadata": {},
     "output_type": "execute_result"
    }
   ],
   "source": [
    "df2.groupby(round((df2['tempo_viagem'])/1000),0).agg({'tempo_viagem':'count'})"
   ]
  },
  {
   "cell_type": "code",
   "execution_count": 86,
   "metadata": {},
   "outputs": [
    {
     "data": {
      "text/plain": [
       "0.9923729723923085"
      ]
     },
     "execution_count": 86,
     "metadata": {},
     "output_type": "execute_result"
    }
   ],
   "source": [
    "df2.shape[0]/df.shape[0]"
   ]
  }
 ],
 "metadata": {
  "kernelspec": {
   "display_name": "Python 3",
   "language": "python",
   "name": "python3"
  },
  "language_info": {
   "codemirror_mode": {
    "name": "ipython",
    "version": 3
   },
   "file_extension": ".py",
   "mimetype": "text/x-python",
   "name": "python",
   "nbconvert_exporter": "python",
   "pygments_lexer": "ipython3",
   "version": "3.10.7"
  },
  "orig_nbformat": 4,
  "vscode": {
   "interpreter": {
    "hash": "336295d508b094686eaf9f75dae8800c5c8c863f253658ee66d2acca65590102"
   }
  }
 },
 "nbformat": 4,
 "nbformat_minor": 2
}
