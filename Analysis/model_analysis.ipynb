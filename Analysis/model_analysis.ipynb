{
 "cells": [
  {
   "cell_type": "code",
   "execution_count": null,
   "metadata": {},
   "outputs": [],
   "source": [
    "import pickle\n",
    "import pandas as pd\n",
    "from os import listdir\n",
    "import matplotlib.pyplot as plt"
   ]
  },
  {
   "cell_type": "code",
   "execution_count": null,
   "metadata": {},
   "outputs": [],
   "source": [
    "models_files = listdir('../Modeling/ModelsF1')\n",
    "models_files"
   ]
  },
  {
   "cell_type": "code",
   "execution_count": null,
   "metadata": {},
   "outputs": [],
   "source": [
    "for file in models_files:\n",
    "    with open(f'../Modeling/ModelsF1/{file}', 'rb') as f:\n",
    "        model = pickle.load(f)\n",
    "    if 'rf' in file or 'xgb' in file:\n",
    "        fi_rf = pd.DataFrame(data=model.feature_importances_, index=model.feature_names_in_, columns=[\"importance\"])\n",
    "        fi_rf.sort_values(\"importance\").plot(kind=\"barh\", title=f\"Importância Dados {file.replace('.pkl','')}\")\n",
    "        plt.savefig(f\"../Analysis/Images/FeatureImportance/fi_{file.replace('.pkl','')}.jpg\")"
   ]
  },
  {
   "cell_type": "code",
   "execution_count": null,
   "metadata": {},
   "outputs": [],
   "source": [
    "models_files = listdir('../Modeling/ModelsF2')\n",
    "models_files"
   ]
  },
  {
   "cell_type": "code",
   "execution_count": null,
   "metadata": {},
   "outputs": [],
   "source": [
    "for file in models_files:\n",
    "    with open(f'../Modeling/ModelsF2/{file}', 'rb') as f:\n",
    "        model = pickle.load(f)\n",
    "    if 'rf' in file or 'xgb' in file:\n",
    "        fi_rf = pd.DataFrame(data=model.feature_importances_, index=model.feature_names_in_, columns=[\"importance\"])\n",
    "        fi_rf.sort_values(\"importance\").plot(kind=\"barh\", title=f\"Importância Dados {file.replace('.pkl','')}\")\n",
    "        plt.savefig(f\"../Analysis/Images/FeatureImportance/fi_{file.replace('.pkl','')}.jpg\")"
   ]
  }
 ],
 "metadata": {
  "kernelspec": {
   "display_name": "Python 3.9.7 ('base')",
   "language": "python",
   "name": "python3"
  },
  "language_info": {
   "name": "python",
   "version": "3.9.7"
  },
  "orig_nbformat": 4,
  "vscode": {
   "interpreter": {
    "hash": "7648292a592af81c56d8024fdb6f28aed3b5ba748d3b97500abbabc3f7227156"
   }
  }
 },
 "nbformat": 4,
 "nbformat_minor": 2
}
