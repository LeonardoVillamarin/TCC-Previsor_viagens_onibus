{
 "cells": [
  {
   "cell_type": "code",
   "execution_count": null,
   "metadata": {},
   "outputs": [],
   "source": [
    "import pandas as pd\n",
    "import matplotlib.pyplot as plt\n",
    "import numpy as np\n",
    "import sklearn.metrics as mtr\n",
    "import pickle\n",
    "import dataframe_image as dfi\n",
    "\n",
    "pd.options.display.max_colwidth = 200"
   ]
  },
  {
   "cell_type": "code",
   "execution_count": null,
   "metadata": {},
   "outputs": [],
   "source": [
    "metrics = []"
   ]
  },
  {
   "cell_type": "code",
   "execution_count": null,
   "metadata": {},
   "outputs": [],
   "source": [
    "for cenario in range(4):\n",
    "\n",
    "        df = pd.read_csv(f'../Bases/Predictions/rota32893_predictions_cen_{cenario}.csv')\n",
    "        df[\"data_partida\"] = pd.to_datetime(df[\"data_partida\"])\n",
    "\n",
    "        RRSE_xgb = np.sqrt(sum((df[\"tempo_viagem\"] - df[\"predicao_xgb\"]) ** 2) / sum((df[\"tempo_viagem\"] - np.mean(df[\"tempo_viagem\"])) ** 2))\n",
    "        RMSE_xgb = mtr.mean_squared_error(df[\"tempo_viagem\"], df[\"predicao_xgb\"], squared=False) \n",
    "        MAPE_xgb = mtr.mean_absolute_percentage_error(df[\"tempo_viagem\"], df[\"predicao_xgb\"])\n",
    "\n",
    "        RRSE_rf = np.sqrt(sum((df[\"tempo_viagem\"] - df[\"predicao_rf\"]) ** 2) / sum((df[\"tempo_viagem\"] - np.mean(df[\"tempo_viagem\"])) ** 2))\n",
    "        RMSE_rf = mtr.mean_squared_error(df[\"tempo_viagem\"], df[\"predicao_rf\"], squared=False) \n",
    "        MAPE_rf = mtr.mean_absolute_percentage_error(df[\"tempo_viagem\"], df[\"predicao_rf\"])\n",
    "\n",
    "        RRSE_svr = np.sqrt(sum((df[\"tempo_viagem\"] - df[\"predicao_svr\"]) ** 2) / sum((df[\"tempo_viagem\"] - np.mean(df[\"tempo_viagem\"])) ** 2))\n",
    "        RMSE_svr = mtr.mean_squared_error(df[\"tempo_viagem\"], df[\"predicao_svr\"], squared=False) \n",
    "        MAPE_svr = mtr.mean_absolute_percentage_error(df[\"tempo_viagem\"], df[\"predicao_svr\"])\n",
    "\n",
    "        RRSE_lr = np.sqrt(sum((df[\"tempo_viagem\"] - df[\"predicao_lr\"]) ** 2) / sum((df[\"tempo_viagem\"] - np.mean(df[\"tempo_viagem\"])) ** 2))\n",
    "        RMSE_lr = mtr.mean_squared_error(df[\"tempo_viagem\"], df[\"predicao_lr\"], squared=False) \n",
    "        MAPE_lr = mtr.mean_absolute_percentage_error(df[\"tempo_viagem\"], df[\"predicao_lr\"])\n",
    "\n",
    "\n",
    "        metrics.append(['RRSE', RRSE_xgb, RRSE_rf, RRSE_svr, RRSE_lr, cenario])\n",
    "        metrics.append(['RMSE', RMSE_xgb, RMSE_rf, RMSE_svr, RMSE_lr, cenario])\n",
    "        metrics.append(['MAPE', MAPE_xgb, MAPE_rf, MAPE_svr, MAPE_lr, cenario])  "
   ]
  },
  {
   "cell_type": "code",
   "execution_count": null,
   "metadata": {},
   "outputs": [],
   "source": [
    "metrics = pd.DataFrame(metrics, columns=['Métrica', 'XGBoosting','Random Forest','Support Vector Regression','Linear Regression', 'Cenário'])\n",
    "\n",
    "dfi.export(metrics, f\"Images/Metrics/metrics_32893.jpg\")"
   ]
  },
  {
   "cell_type": "code",
   "execution_count": null,
   "metadata": {},
   "outputs": [],
   "source": [
    "for cenario in range(4):\n",
    "\n",
    "        df2 = pd.read_csv(f'../Bases/Predictions/rota32893_predictions_cen_{cenario}.csv')\n",
    "        df2[\"data_partida\"] = pd.to_datetime(df2[\"data_partida\"]) \n",
    "\n",
    "        plt.style.use(\"fivethirtyeight\")\n",
    "\n",
    "        plt.figure(figsize=(15, 5))\n",
    "\n",
    "        plt.xlabel(\"Data\")\n",
    "        plt.ylabel(\"Tempo Viagem\")\n",
    "        plt.title(f\"Tempo Viagem Real x Tempo Viagem Predição - Cenário {cenario}\")\n",
    "\n",
    "        df2_plot_predicao = df2[(df2[\"data_partida\"] > \"2019-09-15\") & (df2[\"data_partida\"] < \"2019-09-21\")]\n",
    "\n",
    "        plt.plot(df2_plot_predicao[\"data_partida\"], df2_plot_predicao[\"tempo_viagem\"], color=\"#1f77b4\", label=\"Real\")\n",
    "        plt.plot(df2_plot_predicao[\"data_partida\"], df2_plot_predicao[\"predicao_xgb\"], color=\"#ff7f0e\", label=\"XGB\")\n",
    "        plt.plot(df2_plot_predicao[\"data_partida\"], df2_plot_predicao[\"predicao_svr\"], color=\"#2ca02c\", label=\"SVR\")\n",
    "        plt.plot(df2_plot_predicao[\"data_partida\"], df2_plot_predicao[\"predicao_rf\"], color=\"#d62728\", label=\"RF\")\n",
    "        plt.plot(df2_plot_predicao[\"data_partida\"], df2_plot_predicao[\"predicao_lr\"], color=\"#9467bd\", label=\"LR\")\n",
    "        plt.legend()\n",
    "\n",
    "        plt.savefig(f\"Images/Charts/32893_line_chart_cen_{cenario}.jpg\")"
   ]
  }
 ],
 "metadata": {
  "kernelspec": {
   "display_name": "Python 3.10.7 64-bit",
   "language": "python",
   "name": "python3"
  },
  "language_info": {
   "codemirror_mode": {
    "name": "ipython",
    "version": 3
   },
   "file_extension": ".py",
   "mimetype": "text/x-python",
   "name": "python",
   "nbconvert_exporter": "python",
   "pygments_lexer": "ipython3",
   "version": "3.10.7"
  },
  "orig_nbformat": 4,
  "vscode": {
   "interpreter": {
    "hash": "336295d508b094686eaf9f75dae8800c5c8c863f253658ee66d2acca65590102"
   }
  }
 },
 "nbformat": 4,
 "nbformat_minor": 2
}
