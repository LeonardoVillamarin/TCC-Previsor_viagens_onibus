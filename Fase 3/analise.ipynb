{
 "cells": [
  {
   "cell_type": "code",
   "execution_count": null,
   "metadata": {},
   "outputs": [],
   "source": [
    "import pandas as pd"
   ]
  },
  {
   "cell_type": "code",
   "execution_count": null,
   "metadata": {},
   "outputs": [],
   "source": [
    "m1 = pd.read_csv('metrica_primeira_execução.csv')\n",
    "m2 = pd.read_csv('metrica_teste_clime.csv')\n",
    "m3 = pd.read_csv('metrica_teste_tempos.csv')\n",
    "m4 = pd.read_csv('metrica_teste_Intervalos.csv')\n",
    "metricas = pd.concat([m1,m2,m3,m4])\n",
    "metricas.to_csv('metricas.csv',index=False)"
   ]
  },
  {
   "cell_type": "code",
   "execution_count": null,
   "metadata": {},
   "outputs": [],
   "source": [
    "d1 = pd.read_csv('previsão_primeira_execução.csv')\n",
    "d2 = pd.read_csv('previsão_teste_clima.csv')\n",
    "d3 = pd.read_csv('previsão_teste_tempos.csv')\n",
    "d4 = pd.read_csv('previsão_teste_intervalos.csv')"
   ]
  },
  {
   "cell_type": "code",
   "execution_count": null,
   "metadata": {},
   "outputs": [],
   "source": [
    "d1 = d1.merge(d2[['Descricao Chuva', 'Calor','predicao_xgb_clima', 'predicao_lr_clima', 'predicao_rf_clima']], how=\"left\", left_index=True, right_index=True)"
   ]
  },
  {
   "cell_type": "code",
   "execution_count": null,
   "metadata": {},
   "outputs": [],
   "source": [
    "d1 = d1.merge(d3[['tempo_viagem_1', 'tempo_viagem_2',\n",
    "       'tempo_viagem_3', 'tempo_viagem_4', 'predicao_xgb_1', 'predicao_lr_1',\n",
    "       'predicao_rf_1', 'predicao_xgb_2', 'predicao_lr_2', 'predicao_rf_2',\n",
    "       'predicao_xgb_3', 'predicao_lr_3', 'predicao_rf_3', 'predicao_xgb_4',\n",
    "       'predicao_lr_4', 'predicao_rf_4']], how=\"left\", left_index=True, right_index=True)"
   ]
  },
  {
   "cell_type": "code",
   "execution_count": null,
   "metadata": {},
   "outputs": [],
   "source": [
    "d1 = d1.merge(d4[['predicao_xgb 14 79',\n",
    "       'predicao_rf 14 79', 'predicao_lr 14 79', 'predicao_xgb 28 65',\n",
    "       'predicao_rf 28 65', 'predicao_lr 28 65', 'predicao_xgb 42 51',\n",
    "       'predicao_rf 42 51', 'predicao_lr 42 51', 'predicao_xgb 56 37',\n",
    "       'predicao_rf 56 37', 'predicao_lr 56 37', 'predicao_xgb 70 23',\n",
    "       'predicao_lr 70 23', 'predicao_rf 70 23']], how=\"left\", left_index=True, right_index=True)"
   ]
  },
  {
   "cell_type": "code",
   "execution_count": null,
   "metadata": {},
   "outputs": [],
   "source": [
    "d1.to_csv('previsoes.csv',index=False)"
   ]
  },
  {
   "cell_type": "code",
   "execution_count": null,
   "metadata": {},
   "outputs": [],
   "source": []
  },
  {
   "cell_type": "code",
   "execution_count": null,
   "metadata": {},
   "outputs": [],
   "source": []
  },
  {
   "cell_type": "code",
   "execution_count": null,
   "metadata": {},
   "outputs": [],
   "source": []
  }
 ],
 "metadata": {
  "kernelspec": {
   "display_name": "Python 3.10.7 64-bit",
   "language": "python",
   "name": "python3"
  },
  "language_info": {
   "name": "python",
   "version": "3.10.7"
  },
  "orig_nbformat": 4,
  "vscode": {
   "interpreter": {
    "hash": "336295d508b094686eaf9f75dae8800c5c8c863f253658ee66d2acca65590102"
   }
  }
 },
 "nbformat": 4,
 "nbformat_minor": 2
}
